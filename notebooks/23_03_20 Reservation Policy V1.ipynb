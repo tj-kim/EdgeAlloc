{
 "cells": [
  {
   "cell_type": "code",
   "execution_count": 1,
   "metadata": {},
   "outputs": [
    {
     "name": "stdout",
     "output_type": "stream",
     "text": [
      "/home/tkim/Academics/EdgeAlloc\n"
     ]
    }
   ],
   "source": [
    "cd /home/tkim/Academics/EdgeAlloc/"
   ]
  },
  {
   "cell_type": "code",
   "execution_count": 2,
   "metadata": {},
   "outputs": [],
   "source": [
    "%load_ext autoreload\n",
    "%autoreload 2"
   ]
  },
  {
   "cell_type": "code",
   "execution_count": 4,
   "metadata": {},
   "outputs": [],
   "source": [
    "import numpy as np\n",
    "import matplotlib.pyplot as plt\n",
    "from tqdm import tqdm, tqdm_notebook\n",
    "\n",
    "# Import tools\n",
    "import tools.solver_utils as ts\n",
    "import tools.other_utils as to\n",
    "import tools.sim_utils as tm\n",
    "\n",
    "# Import classes\n",
    "from classes.User import *\n",
    "from classes.Server import *\n",
    "\n",
    "import pdb\n",
    "\n",
    "np.set_printoptions(suppress=True, precision=4)"
   ]
  },
  {
   "cell_type": "code",
   "execution_count": 12,
   "metadata": {},
   "outputs": [
    {
     "name": "stderr",
     "output_type": "stream",
     "text": [
      "\r",
      "  0%|          | 0/2991 [00:00<?, ?it/s]"
     ]
    },
    {
     "name": "stdout",
     "output_type": "stream",
     "text": [
      "Restricted license - for non-production use only - expires 2024-10-28\n"
     ]
    },
    {
     "name": "stderr",
     "output_type": "stream",
     "text": [
      "100%|██████████| 2991/2991 [00:55<00:00, 54.35it/s]\n"
     ]
    }
   ],
   "source": [
    "# testing user markov chain \n",
    "U = 5\n",
    "K = 9\n",
    "T = 3000\n",
    "\n",
    "space_1d_dim = 10\n",
    "num_locs = 9\n",
    "cap_multiply = 1\n",
    "\n",
    "# Generate visitng locations and server locations\n",
    "usr_locs = tm.gen_eq_locs(space_1d=space_1d_dim, nums=num_locs, offset = 1.7)\n",
    "svr_locs = tm.gen_eq_locs(space_1d=space_1d_dim, nums=K, offset = 1.7)\n",
    "C = np.ones(K) * cap_multiply\n",
    "\n",
    "mu = np.random.uniform(low=0.0, high=1.0, size=[U,K])\n",
    "\n",
    "servers = []\n",
    "for s in range(len(svr_locs)):\n",
    "    servers += [Server(C[s], s, mu, svr_locs[s])]\n",
    "\n",
    "users = []\n",
    "for i in range(U):\n",
    "    users += [User(servers, T, usr_locs, lat_dist = 4.5, self_weight = 0.20, threshold_dist=3.5)]\n",
    "    \n",
    "usersR = copy.deepcopy(users)\n",
    "    \n",
    "# Naive\n",
    "regret_dist = np.zeros(T)\n",
    "collision_loss = np.zeros(T)\n",
    "collision_rate = np.zeros(T)\n",
    "\n",
    "# Reserve\n",
    "regret_R = np.zeros(T)\n",
    "collision_loss_R = np.zeros(T)\n",
    "collision_rate_R = np.zeros(T)\n",
    "\n",
    "# Central solver\n",
    "UCB = np.ones_like(mu)\n",
    "T_ka = np.ones_like(mu)\n",
    "rewards_sum = np.ones([U,K]) # Just for calculating UCB idx\n",
    "regret_central = np.zeros(T)\n",
    "\n",
    "pbar = tqdm(total=T - K)\n",
    "\n",
    "for t in range(T - K):\n",
    "    \n",
    "    # Obtain New Arm availability\n",
    "    L = to.obtain_L_users(U,K,users)\n",
    "    \n",
    "    # Optimal placement and reward\n",
    "    opt_x, opt_reward = ts.solve_optimization(mu, C, L)\n",
    "    \n",
    "    # Solve for Central\n",
    "    lrn_x, _ = ts.solve_optimization(UCB, C, L)\n",
    "    lrn_reward = ts.calculate_obj_val(lrn_x, mu, C)\n",
    "    regret_central[t] = opt_reward - lrn_reward\n",
    "    UCB, T_ka, rewards_sum, mu_bar = ts.play_UCB(UCB, T_ka, rewards_sum, t+1, mu, lrn_x)\n",
    "    \n",
    "    # Solve Naive - Distributed \n",
    "    lrn_x_dist = tm.dist_usr_arms(users)\n",
    "    lrn_reward_dist = ts.calculate_obj_val(lrn_x_dist, mu, C)\n",
    "    regret_dist[t] = opt_reward - lrn_reward_dist\n",
    "    tm.dist_receive_rewards(servers, users, lrn_x_dist)\n",
    "    \n",
    "    # Solve Reserve - Distributed\n",
    "    lrn_x_R = tm.dist_usr_arms(usersR)\n",
    "    lrn_reward_R = ts.calculate_obj_val(lrn_x_R, mu, C)\n",
    "    regret_R[t] = opt_reward - lrn_reward_R\n",
    "    tm.dist_receive_rewards(servers, usersR, lrn_x_R)\n",
    "    \n",
    "    # Obtain Collision Information for Dist Methods\n",
    "    collision_loss[t], collision_rate[t] = tm.characterize_collision(lrn_x_dist, mu, C)\n",
    "    collision_loss_R[t], collision_rate_R[t] = tm.characterize_collision(lrn_x_R, mu, C)\n",
    "    \n",
    "    # Update for Next Step\n",
    "    for u in users:\n",
    "        u.next_step()\n",
    "    for i in range(len(usersR)):\n",
    "        usersR[i].next_step()\n",
    "        usersR[i].usr_place = copy.deepcopy(users[i].usr_place)\n",
    "    pbar.update(1)\n",
    "    \n",
    "pbar.close()"
   ]
  },
  {
   "cell_type": "code",
   "execution_count": 13,
   "metadata": {},
   "outputs": [
    {
     "data": {
      "text/plain": [
       "Text(0.5,0,'Rounds')"
      ]
     },
     "execution_count": 13,
     "metadata": {},
     "output_type": "execute_result"
    },
    {
     "data": {
      "image/png": "[encoded data removed]",
      "text/plain": [
       "<Figure size 432x288 with 1 Axes>"
      ]
     },
     "metadata": {
      "needs_background": "light"
     },
     "output_type": "display_data"
    }
   ],
   "source": [
    "plt.plot(np.cumsum(regret_dist))\n",
    "plt.title(\"Cumulative Regret - Dist\")\n",
    "plt.xlabel(\"Rounds\")"
   ]
  },
  {
   "cell_type": "code",
   "execution_count": 14,
   "metadata": {},
   "outputs": [
    {
     "data": {
      "text/plain": [
       "Text(0.5,0,'Rounds')"
      ]
     },
     "execution_count": 14,
     "metadata": {},
     "output_type": "execute_result"
    },
    {
     "data": {
      "image/png": "[encoded data removed]",
      "text/plain": [
       "<Figure size 432x288 with 1 Axes>"
      ]
     },
     "metadata": {
      "needs_background": "light"
     },
     "output_type": "display_data"
    }
   ],
   "source": [
    "plt.plot(np.cumsum(regret_R))\n",
    "plt.title(\"Cumulative Regret - Dist\")\n",
    "plt.xlabel(\"Rounds\")"
   ]
  },
  {
   "cell_type": "code",
   "execution_count": 15,
   "metadata": {},
   "outputs": [
    {
     "data": {
      "text/plain": [
       "2172.8789247336435"
      ]
     },
     "execution_count": 15,
     "metadata": {},
     "output_type": "execute_result"
    }
   ],
   "source": [
    "np.cumsum(regret_R)[-1]"
   ]
  },
  {
   "cell_type": "code",
   "execution_count": 16,
   "metadata": {},
   "outputs": [
    {
     "data": {
      "text/plain": [
       "2151.2643334874433"
      ]
     },
     "execution_count": 16,
     "metadata": {},
     "output_type": "execute_result"
    }
   ],
   "source": [
    "np.cumsum(regret_dist)[-1]"
   ]
  },
  {
   "cell_type": "code",
   "execution_count": null,
   "metadata": {},
   "outputs": [],
   "source": []
  }
 ],
 "metadata": {
  "kernelspec": {
   "display_name": "Python 3",
   "language": "python",
   "name": "python3"
  },
  "language_info": {
   "codemirror_mode": {
    "name": "ipython",
    "version": 3
   },
   "file_extension": ".py",
   "mimetype": "text/x-python",
   "name": "python",
   "nbconvert_exporter": "python",
   "pygments_lexer": "ipython3",
   "version": "3.7.0"
  }
 },
 "nbformat": 4,
 "nbformat_minor": 2
}
