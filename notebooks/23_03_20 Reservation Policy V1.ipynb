{
 "cells": [
  {
   "cell_type": "code",
   "execution_count": 1,
   "metadata": {},
   "outputs": [
    {
     "name": "stdout",
     "output_type": "stream",
     "text": [
      "/home/tkim/Academics/EdgeAlloc\n"
     ]
    }
   ],
   "source": [
    "cd /home/tkim/Academics/EdgeAlloc/"
   ]
  },
  {
   "cell_type": "code",
   "execution_count": 2,
   "metadata": {},
   "outputs": [],
   "source": [
    "%load_ext autoreload\n",
    "%autoreload 2"
   ]
  },
  {
   "cell_type": "code",
   "execution_count": 3,
   "metadata": {},
   "outputs": [],
   "source": [
    "import numpy as np\n",
    "import matplotlib.pyplot as plt\n",
    "from tqdm import tqdm, tqdm_notebook\n",
    "\n",
    "# Import tools\n",
    "import tools.solver_utils as ts\n",
    "import tools.other_utils as to\n",
    "import tools.sim_utils as tm\n",
    "\n",
    "# Import classes\n",
    "from classes.User import *\n",
    "from classes.Server import *\n",
    "\n",
    "import pdb\n",
    "\n",
    "np.set_printoptions(suppress=True, precision=4)"
   ]
  },
  {
   "cell_type": "code",
   "execution_count": 4,
   "metadata": {},
   "outputs": [
    {
     "name": "stderr",
     "output_type": "stream",
     "text": [
      "\r",
      "  0%|          | 0/4996 [00:00<?, ?it/s]"
     ]
    },
    {
     "name": "stdout",
     "output_type": "stream",
     "text": [
      "Restricted license - for non-production use only - expires 2024-10-28\n"
     ]
    },
    {
     "name": "stderr",
     "output_type": "stream",
     "text": [
      "100%|██████████| 4996/4996 [05:31<00:00, 14.48it/s]\n"
     ]
    }
   ],
   "source": [
    "# testing user markov chain \n",
    "U = 7\n",
    "K = 4\n",
    "T = 5000\n",
    "\n",
    "space_1d_dim = 6\n",
    "num_locs = 9\n",
    "cap_multiply = 2\n",
    "\n",
    "# Generate visitng locations and server locations\n",
    "usr_locs = tm.gen_eq_locs(space_1d=space_1d_dim, nums=num_locs, offset = 1.7)\n",
    "svr_locs = tm.gen_eq_locs(space_1d=space_1d_dim, nums=K, offset = 1.7)\n",
    "C = np.ones(K) * cap_multiply\n",
    "C2 = np.append(C,np.array([1]))\n",
    "\n",
    "mu = np.random.uniform(low=0.0, high=1.0, size=[U,K])\n",
    "mu2 = np.append(mu, np.zeros([U,1]), axis = 1)\n",
    "\n",
    "servers = []\n",
    "for s in range(len(svr_locs)):\n",
    "    servers += [Server(C[s], s, mu, svr_locs[s])]\n",
    "\n",
    "users = []\n",
    "for i in range(U):\n",
    "    users += [User(servers, T, usr_locs, lat_dist = 4.5, self_weight = 0.25, threshold_dist=3.5)]\n",
    "    \n",
    "usersR = copy.deepcopy(users)\n",
    "    \n",
    "# Naive\n",
    "regret_dist = np.zeros(T)\n",
    "collision_loss = np.zeros(T)\n",
    "collision_rate = np.zeros(T)\n",
    "\n",
    "# Reserve\n",
    "regret_R = np.zeros(T)\n",
    "collision_loss_R = np.zeros(T)\n",
    "collision_rate_R = np.zeros(T)\n",
    "\n",
    "# Central solver\n",
    "UCB = np.ones_like(mu)\n",
    "T_ka = np.ones_like(mu)\n",
    "rewards_sum = np.ones([U,K]) # Just for calculating UCB idx\n",
    "regret_central = np.zeros(T)\n",
    "\n",
    "pbar = tqdm(total=T - K)\n",
    "\n",
    "for t in range(T - K):\n",
    "    \n",
    "    # Obtain New Arm availability\n",
    "    L = to.obtain_L_users(U,K,users)\n",
    "    \n",
    "    # Optimal placement and reward\n",
    "    opt_x, opt_reward = ts.solve_optimization(mu, C, L)\n",
    "    \n",
    "    # Solve for Central\n",
    "    lrn_x, _ = ts.solve_optimization(UCB, C, L)\n",
    "    lrn_reward = ts.calculate_obj_val(lrn_x, mu, C)\n",
    "    regret_central[t] = opt_reward - lrn_reward\n",
    "    UCB, T_ka, rewards_sum, mu_bar = ts.play_UCB(UCB, T_ka, rewards_sum, t+1, mu, lrn_x)\n",
    "    \n",
    "    # Solve Naive - Distributed \n",
    "    lrn_x_dist = tm.dist_usr_arms(users)\n",
    "    lrn_reward_dist = ts.calculate_obj_val(lrn_x_dist, mu2, C2)\n",
    "    regret_dist[t] = opt_reward - lrn_reward_dist\n",
    "    tm.dist_receive_rewards(servers, users, lrn_x_dist)\n",
    "    \n",
    "    # Solve Reserve - Distributed\n",
    "    lrn_x_R = tm.dist_usr_arms(usersR)\n",
    "    lrn_reward_R = ts.calculate_obj_val(lrn_x_R, mu2, C2)\n",
    "    regret_R[t] = opt_reward - lrn_reward_R\n",
    "    tm.dist_receive_rewards(servers, usersR, lrn_x_R, rsv_flag = True, wait_scale = 2)\n",
    "    \n",
    "    # Obtain Collision Information for Dist Methods\n",
    "    collision_loss[t], collision_rate[t] = tm.characterize_collision(lrn_x_dist, mu2, C2)\n",
    "    collision_loss_R[t], collision_rate_R[t] = tm.characterize_collision(lrn_x_R, mu2, C2)\n",
    "    \n",
    "    # Update for Next Step\n",
    "    for u in users:\n",
    "        u.next_step()\n",
    "    for i in range(len(usersR)):\n",
    "        usersR[i].next_step()\n",
    "        usersR[i].usr_place = copy.deepcopy(users[i].usr_place)\n",
    "    pbar.update(1)\n",
    "    \n",
    "pbar.close()"
   ]
  },
  {
   "cell_type": "code",
   "execution_count": 17,
   "metadata": {},
   "outputs": [
    {
     "ename": "NameError",
     "evalue": "name 'regret' is not defined",
     "output_type": "error",
     "traceback": [
      "\u001b[0;31m---------------------------------------------------------------------------\u001b[0m",
      "\u001b[0;31mNameError\u001b[0m                                 Traceback (most recent call last)",
      "\u001b[0;32m<ipython-input-17-aad991b3cb59>\u001b[0m in \u001b[0;36m<module>\u001b[0;34m()\u001b[0m\n\u001b[1;32m      5\u001b[0m \u001b[0mplt\u001b[0m\u001b[0;34m.\u001b[0m\u001b[0mlegend\u001b[0m\u001b[0;34m(\u001b[0m\u001b[0;34m)\u001b[0m\u001b[0;34m\u001b[0m\u001b[0m\n\u001b[1;32m      6\u001b[0m \u001b[0;34m\u001b[0m\u001b[0m\n\u001b[0;32m----> 7\u001b[0;31m \u001b[0mprint\u001b[0m\u001b[0;34m(\u001b[0m\u001b[0;34m\"Cumul Regret:\"\u001b[0m\u001b[0;34m,\u001b[0m \u001b[0mnp\u001b[0m\u001b[0;34m.\u001b[0m\u001b[0mcumsum\u001b[0m\u001b[0;34m(\u001b[0m\u001b[0mregret\u001b[0m\u001b[0;34m)\u001b[0m\u001b[0;34m[\u001b[0m\u001b[0;34m-\u001b[0m\u001b[0;36m1\u001b[0m\u001b[0;34m]\u001b[0m\u001b[0;34m)\u001b[0m\u001b[0;34m\u001b[0m\u001b[0m\n\u001b[0m",
      "\u001b[0;31mNameError\u001b[0m: name 'regret' is not defined"
     ]
    },
    {
     "data": {
      "image/png": "[encoded data removed]",
      "text/plain": [
       "<Figure size 432x288 with 1 Axes>"
      ]
     },
     "metadata": {
      "needs_background": "light"
     },
     "output_type": "display_data"
    }
   ],
   "source": [
    "plt.plot(np.cumsum(regret_dist), label = 'dist')\n",
    "plt.plot(np.cumsum(regret_R), label = 'rsv')\n",
    "plt.title(\"Cumulative Regret\")\n",
    "plt.xlabel(\"Rounds\")\n",
    "plt.legend()\n",
    "\n",
    "print(\"Cumul Regret:\", np.cumsum(regret_R)[-1])"
   ]
  },
  {
   "cell_type": "code",
   "execution_count": 13,
   "metadata": {},
   "outputs": [
    {
     "data": {
      "text/plain": [
       "<matplotlib.legend.Legend at 0x7f412b44b668>"
      ]
     },
     "execution_count": 13,
     "metadata": {},
     "output_type": "execute_result"
    },
    {
     "data": {
      "image/png": "[encoded data removed]",
      "text/plain": [
       "<Figure size 432x288 with 1 Axes>"
      ]
     },
     "metadata": {
      "needs_background": "light"
     },
     "output_type": "display_data"
    }
   ],
   "source": [
    "plt.plot(np.cumsum(collision_loss), label = 'dist')\n",
    "plt.plot(np.cumsum(collision_loss_R), label = 'rsv')\n",
    "plt.title(\"Collision_loss\")\n",
    "plt.xlabel(\"Rounds\")\n",
    "plt.legend()"
   ]
  },
  {
   "cell_type": "code",
   "execution_count": 14,
   "metadata": {},
   "outputs": [
    {
     "name": "stdout",
     "output_type": "stream",
     "text": [
      "Cumul Coll per Client: 372.59064428570855\n"
     ]
    },
    {
     "data": {
      "image/png": "[encoded data removed]",
      "text/plain": [
       "<Figure size 432x288 with 1 Axes>"
      ]
     },
     "metadata": {
      "needs_background": "light"
     },
     "output_type": "display_data"
    }
   ],
   "source": [
    "plt.plot(np.cumsum(collision_rate)/U, label = 'dist')\n",
    "plt.plot(np.cumsum(collision_rate_R)/U, label = 'rsv')\n",
    "plt.title(\"Collision_rate\")\n",
    "plt.xlabel(\"Rounds\")\n",
    "plt.legend()\n",
    "\n",
    "print(\"Cumul Coll per Client:\", (np.cumsum(collision_rate_R)/U)[-1])"
   ]
  },
  {
   "cell_type": "code",
   "execution_count": 15,
   "metadata": {},
   "outputs": [
    {
     "name": "stdout",
     "output_type": "stream",
     "text": [
      "83\n",
      "140\n",
      "651\n",
      "526\n",
      "590\n",
      "464\n",
      "149\n",
      "Average Collision Lose: 371.85714285714283\n"
     ]
    }
   ],
   "source": [
    "collect_wait = []\n",
    "for i in range(len(usersR)):\n",
    "    print(usersR[i].waittime_count)\n",
    "    collect_wait += [usersR[i].waittime_count]\n",
    "    \n",
    "print(\"Average Collision Lose:\", np.mean(collect_wait))"
   ]
  },
  {
   "cell_type": "code",
   "execution_count": 16,
   "metadata": {},
   "outputs": [
    {
     "name": "stdout",
     "output_type": "stream",
     "text": [
      "7.132530120481928\n",
      "10.042857142857143\n",
      "9.311827956989248\n",
      "9.11787072243346\n",
      "8.945762711864408\n",
      "7.318965517241379\n",
      "8.563758389261745\n",
      "Average Waittime: 8.633367508732757\n"
     ]
    }
   ],
   "source": [
    "collect_timehist = []\n",
    "for i in range(len(usersR)):\n",
    "    a = usersR[i].waittime_history\n",
    "    print(np.mean(a[a>0]))\n",
    "    collect_timehist += [np.mean(a[a>0])]\n",
    "    \n",
    "print(\"Average Waittime:\", np.mean(collect_timehist))"
   ]
  },
  {
   "cell_type": "code",
   "execution_count": 10,
   "metadata": {},
   "outputs": [
    {
     "name": "stdout",
     "output_type": "stream",
     "text": [
      "4\n",
      "13\n",
      "18\n",
      "35\n",
      "24\n",
      "49\n",
      "16\n"
     ]
    }
   ],
   "source": [
    "for i in range(len(usersR)):\n",
    "    print(usersR[i].cloud_count)"
   ]
  },
  {
   "cell_type": "code",
   "execution_count": 11,
   "metadata": {},
   "outputs": [
    {
     "name": "stdout",
     "output_type": "stream",
     "text": [
      "0\n",
      "0\n",
      "0\n",
      "0\n",
      "0\n",
      "0\n",
      "0\n"
     ]
    }
   ],
   "source": [
    "for i in range(len(users)):\n",
    "    print(users[i].cloud_count)"
   ]
  },
  {
   "cell_type": "code",
   "execution_count": null,
   "metadata": {},
   "outputs": [],
   "source": []
  }
 ],
 "metadata": {
  "kernelspec": {
   "display_name": "Python 3",
   "language": "python",
   "name": "python3"
  },
  "language_info": {
   "codemirror_mode": {
    "name": "ipython",
    "version": 3
   },
   "file_extension": ".py",
   "mimetype": "text/x-python",
   "name": "python",
   "nbconvert_exporter": "python",
   "pygments_lexer": "ipython3",
   "version": "3.7.0"
  }
 },
 "nbformat": 4,
 "nbformat_minor": 2
}
