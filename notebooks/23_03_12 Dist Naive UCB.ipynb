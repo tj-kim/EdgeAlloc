{
 "cells": [
  {
   "cell_type": "code",
   "execution_count": 1,
   "metadata": {},
   "outputs": [
    {
     "name": "stdout",
     "output_type": "stream",
     "text": [
      "/home/tkim/Academics/EdgeAlloc\n"
     ]
    }
   ],
   "source": [
    "cd /home/tkim/Academics/EdgeAlloc/"
   ]
  },
  {
   "cell_type": "code",
   "execution_count": 2,
   "metadata": {},
   "outputs": [],
   "source": [
    "%load_ext autoreload\n",
    "%autoreload 2"
   ]
  },
  {
   "cell_type": "code",
   "execution_count": 7,
   "metadata": {},
   "outputs": [],
   "source": [
    "import numpy as np\n",
    "import matplotlib.pyplot as plt\n",
    "from tqdm import tqdm, tqdm_notebook\n",
    "\n",
    "# Import tools\n",
    "import tools.solver_utils as ts\n",
    "import tools.other_utils as to\n",
    "import tools.sim_utils as tm\n",
    "\n",
    "# Import classes\n",
    "from classes.User import *\n",
    "from classes.Server import *"
   ]
  },
  {
   "cell_type": "code",
   "execution_count": 23,
   "metadata": {},
   "outputs": [],
   "source": [
    "# testing user markov chain \n",
    "U = 1\n",
    "K = 4\n",
    "T = 10000\n",
    "\n",
    "space_1d_dim = 10\n",
    "num_locs = 9\n",
    "\n",
    "# Generate visitng locations and server locations\n",
    "usr_locs = tm.gen_eq_locs(space_1d=space_1d_dim, nums=num_locs, offset = 1.7)\n",
    "svr_locs = tm.gen_eq_locs(space_1d=space_1d_dim, nums=K, offset = 1.7)\n",
    "capacity = np.ones(K) * 2\n",
    "\n",
    "mu = np.random.uniform(low=0.0, high=1.0, size=[U,K])\n",
    "\n",
    "servers = []\n",
    "for s in range(len(svr_locs)):\n",
    "    servers += [Server(capacity[s], s, mu, svr_locs[s])]\n",
    "\n",
    "users = []\n",
    "for i in range(U):\n",
    "    users += [User(servers, T, locs)]\n",
    "    \n",
    "regret_central = np.zeros(T)\n",
    "regret_dist = np.zeros(T)\n",
    "\n"
   ]
  },
  {
   "cell_type": "code",
   "execution_count": 22,
   "metadata": {},
   "outputs": [
    {
     "data": {
      "text/plain": [
       "array([2., 2., 2., 2.])"
      ]
     },
     "execution_count": 22,
     "metadata": {},
     "output_type": "execute_result"
    }
   ],
   "source": [
    "capacity"
   ]
  },
  {
   "cell_type": "code",
   "execution_count": 17,
   "metadata": {},
   "outputs": [
    {
     "data": {
      "text/plain": [
       "<matplotlib.collections.PathCollection at 0x7f5393352470>"
      ]
     },
     "execution_count": 17,
     "metadata": {},
     "output_type": "execute_result"
    },
    {
     "data": {
      "image/png": "[encoded data removed]",
      "text/plain": [
       "<Figure size 432x288 with 1 Axes>"
      ]
     },
     "metadata": {
      "needs_background": "light"
     },
     "output_type": "display_data"
    }
   ],
   "source": [
    "x = [p[0] for p in usr_locs]\n",
    "y = [p[1] for p in usr_locs]\n",
    "\n",
    "# Create a scatter plot of the points\n",
    "plt.scatter(x, y)"
   ]
  },
  {
   "cell_type": "code",
   "execution_count": null,
   "metadata": {},
   "outputs": [],
   "source": []
  }
 ],
 "metadata": {
  "kernelspec": {
   "display_name": "Python 3",
   "language": "python",
   "name": "python3"
  },
  "language_info": {
   "codemirror_mode": {
    "name": "ipython",
    "version": 3
   },
   "file_extension": ".py",
   "mimetype": "text/x-python",
   "name": "python",
   "nbconvert_exporter": "python",
   "pygments_lexer": "ipython3",
   "version": "3.7.0"
  }
 },
 "nbformat": 4,
 "nbformat_minor": 2
}
