{
 "cells": [
  {
   "cell_type": "code",
   "execution_count": 32,
   "metadata": {},
   "outputs": [
    {
     "name": "stdout",
     "output_type": "stream",
     "text": [
      "/home/tkim/Academics/EdgeAlloc\n"
     ]
    }
   ],
   "source": [
    "cd /home/tkim/Academics/EdgeAlloc/"
   ]
  },
  {
   "cell_type": "code",
   "execution_count": 33,
   "metadata": {},
   "outputs": [
    {
     "name": "stdout",
     "output_type": "stream",
     "text": [
      "The autoreload extension is already loaded. To reload it, use:\n",
      "  %reload_ext autoreload\n"
     ]
    }
   ],
   "source": [
    "%load_ext autoreload\n",
    "%autoreload 2"
   ]
  },
  {
   "cell_type": "code",
   "execution_count": 34,
   "metadata": {},
   "outputs": [],
   "source": [
    "import numpy as np\n",
    "import matplotlib.pyplot as plt\n",
    "from tqdm import tqdm, tqdm_notebook\n",
    "\n",
    "# Import tools\n",
    "import tools.solver_utils as ts\n",
    "import tools.other_utils as to\n",
    "\n",
    "# Import classes\n",
    "from classes.User import *\n",
    "from classes.Server import *"
   ]
  },
  {
   "cell_type": "code",
   "execution_count": 35,
   "metadata": {},
   "outputs": [],
   "source": [
    "# testing user markov chain \n",
    "U = 1\n",
    "K = 4\n",
    "T = 10\n",
    "\n",
    "locs = [(0,0),(2,2),(4,4),(5,5)]\n",
    "svr_locs = [(1,1),(2,2),(3,3)]\n",
    "capacity = [2,2,2,2]\n",
    "\n",
    "mu = np.random.uniform(low=0.0, high=1.0, size=[U,K])\n",
    "\n",
    "servers = []\n",
    "for s in range(len(svr_locs)):\n",
    "    servers += [Server(capacity[s], s, mu, svr_locs[s])]\n",
    "    \n",
    "u = User(servers, T, locs)"
   ]
  },
  {
   "cell_type": "code",
   "execution_count": 36,
   "metadata": {},
   "outputs": [
    {
     "data": {
      "text/plain": [
       "{0: [0, 1], 1: [0, 1, 2], 2: [1, 2], 3: [2]}"
      ]
     },
     "execution_count": 36,
     "metadata": {},
     "output_type": "execute_result"
    }
   ],
   "source": [
    "u.arms_per_loc"
   ]
  },
  {
   "cell_type": "code",
   "execution_count": null,
   "metadata": {},
   "outputs": [],
   "source": []
  }
 ],
 "metadata": {
  "kernelspec": {
   "display_name": "Python 3",
   "language": "python",
   "name": "python3"
  },
  "language_info": {
   "codemirror_mode": {
    "name": "ipython",
    "version": 3
   },
   "file_extension": ".py",
   "mimetype": "text/x-python",
   "name": "python",
   "nbconvert_exporter": "python",
   "pygments_lexer": "ipython3",
   "version": "3.7.0"
  }
 },
 "nbformat": 4,
 "nbformat_minor": 2
}
