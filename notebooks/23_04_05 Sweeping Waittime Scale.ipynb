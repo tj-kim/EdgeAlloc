{
 "cells": [
  {
   "cell_type": "code",
   "execution_count": 1,
   "metadata": {},
   "outputs": [
    {
     "name": "stdout",
     "output_type": "stream",
     "text": [
      "/home/tkim/Academics/EdgeAlloc\n"
     ]
    }
   ],
   "source": [
    "cd /home/tkim/Academics/EdgeAlloc/"
   ]
  },
  {
   "cell_type": "code",
   "execution_count": 2,
   "metadata": {},
   "outputs": [],
   "source": [
    "%load_ext autoreload\n",
    "%autoreload 2"
   ]
  },
  {
   "cell_type": "code",
   "execution_count": 3,
   "metadata": {},
   "outputs": [],
   "source": [
    "import numpy as np\n",
    "import matplotlib.pyplot as plt\n",
    "from tqdm import tqdm, tqdm_notebook\n",
    "\n",
    "# Import tools\n",
    "import tools.solver_utils as ts\n",
    "import tools.other_utils as to\n",
    "import tools.sim_utils as tm\n",
    "\n",
    "# Import classes\n",
    "from classes.User import *\n",
    "from classes.Server import *\n",
    "\n",
    "import pdb\n",
    "\n",
    "np.set_printoptions(suppress=True, precision=4)"
   ]
  },
  {
   "cell_type": "code",
   "execution_count": 4,
   "metadata": {},
   "outputs": [],
   "source": [
    "def make_user_copies(Users, scale_settings, T):\n",
    "    \n",
    "    lst_lu = []\n",
    "    lst_regret = []\n",
    "    lst_collision_loss = []\n",
    "    lst_collision_rate = []\n",
    "    \n",
    "    for i in range(len(scale_settings)):\n",
    "        lst_lu += [copy.deepcopy(Users)]\n",
    "        lst_regret += [np.zeros(T)]\n",
    "        lst_collision_loss += [np.zeros(T)]\n",
    "        lst_collision_rate += [np.zeros(T)]\n",
    "    \n",
    "    return lst_lu, lst_regret, lst_collision_loss, lst_collision_rate\n",
    "\n",
    "def solve_dist_many(servers, opt_reward, lst_lu, scale_settings, mu2, C2, t, \n",
    "                    lst_regret, lst_collision_loss, lst_collision_rate):\n",
    "    \n",
    "    for i in range(len(lst_lu)):\n",
    "        usersR = lst_lu[i]\n",
    "        lrn_x_R = tm.dist_usr_arms(usersR)\n",
    "        lrn_reward_R = ts.calculate_obj_val(lrn_x_R, mu2, C2)\n",
    "        lst_regret[i][t] = opt_reward - lrn_reward_R\n",
    "        tm.dist_receive_rewards(servers, usersR, lrn_x_R, rsv_flag = True, wait_scale = scale_settings[i])\n",
    "        \n",
    "        lst_collision_loss[i][t], lst_collision_rate[i][t] = tm.characterize_collision(lrn_x_R, mu2, C2)\n",
    "    \n",
    "    return\n",
    "    \n",
    "def update_usr_loc(users, lst_lu):\n",
    "    \n",
    "    for j in range(len(lst_lu)):\n",
    "        usersR = lst_lu[j]\n",
    "        for i in range(len(usersR)):\n",
    "                usersR[i].next_step()\n",
    "                usersR[i].usr_place = copy.deepcopy(users[i].usr_place)\n",
    "                \n",
    "    return\n",
    "\n",
    "def record_stats(cumul_reg, cumul_coll_pc, exp_wait, trial,\n",
    "                lst_regret, lst_collision_rate):\n",
    "    \n",
    "    num_U = len(lst_lu[0])\n",
    "    \n",
    "    for i in range(len(lst_lu)):\n",
    "        cumul_reg[i,trial] = np.cumsum(lst_regret[i])[-1]\n",
    "        cumul_coll_pc[i,trial] = (np.cumsum(lst_collision_rate[i])[-1])/num_U\n",
    "        \n",
    "        collect_timehist = []\n",
    "        usersR = lst_lu[i]\n",
    "        for j in range(num_U):\n",
    "            a = usersR[j].waittime_history\n",
    "            collect_timehist += [np.mean(a[a>0])]\n",
    "\n",
    "        exp_wait[i,trial] = np.mean(collect_timehist)\n",
    "    return\n",
    "    "
   ]
  },
  {
   "cell_type": "code",
   "execution_count": 5,
   "metadata": {},
   "outputs": [],
   "source": [
    "scale_settings = [0.5,1,1.5,2,3,5,10]\n",
    "num_trials = 10\n",
    "\n",
    "cumul_reg = np.zeros([len(scale_settings),num_trials])\n",
    "cumul_coll_pc = np.zeros([len(scale_settings),num_trials])\n",
    "exp_wait = np.zeros([len(scale_settings),num_trials])\n",
    "\n",
    "cumul_reg_dist = np.zeros(num_trials)\n",
    "cumul_coll_dist = np.zeros(num_trials)"
   ]
  },
  {
   "cell_type": "code",
   "execution_count": 6,
   "metadata": {},
   "outputs": [
    {
     "name": "stderr",
     "output_type": "stream",
     "text": [
      "\r",
      "  0%|          | 0/3996 [00:00<?, ?it/s]"
     ]
    },
    {
     "name": "stdout",
     "output_type": "stream",
     "text": [
      "Restricted license - for non-production use only - expires 2024-10-28\n"
     ]
    },
    {
     "name": "stderr",
     "output_type": "stream",
     "text": [
      "100%|██████████| 3996/3996 [04:00<00:00, 16.60it/s]\n",
      "100%|██████████| 3996/3996 [03:50<00:00, 17.32it/s]\n",
      "100%|██████████| 3996/3996 [01:22<00:00, 48.58it/s]\n",
      "100%|██████████| 3996/3996 [03:33<00:00, 19.61it/s]\n",
      "100%|██████████| 3996/3996 [01:23<00:00, 47.59it/s]\n",
      "100%|██████████| 3996/3996 [02:31<00:00, 26.46it/s]\n",
      "100%|██████████| 3996/3996 [03:31<00:00, 19.17it/s]\n",
      "100%|██████████| 3996/3996 [04:22<00:00, 15.21it/s]\n",
      "100%|██████████| 3996/3996 [03:26<00:00, 19.33it/s]\n",
      "100%|██████████| 3996/3996 [05:43<00:00, 10.43it/s]\n"
     ]
    }
   ],
   "source": [
    "# testing user markov chain \n",
    "U = 7\n",
    "K = 4\n",
    "T = 4000\n",
    "\n",
    "space_1d_dim = 6\n",
    "num_locs = 9\n",
    "cap_multiply = 2\n",
    "\n",
    "# Generate visitng locations and server locations\n",
    "usr_locs = tm.gen_eq_locs(space_1d=space_1d_dim, nums=num_locs, offset = 1.7)\n",
    "svr_locs = tm.gen_eq_locs(space_1d=space_1d_dim, nums=K, offset = 1.7)\n",
    "C = np.ones(K) * cap_multiply\n",
    "C2 = np.append(C,np.array([1]))\n",
    "\n",
    "for tri in range(num_trials):\n",
    "\n",
    "    mu = np.random.uniform(low=0.0, high=1.0, size=[U,K])\n",
    "    mu2 = np.append(mu, np.zeros([U,1]), axis = 1)\n",
    "\n",
    "    servers = []\n",
    "    for s in range(len(svr_locs)):\n",
    "        servers += [Server(C[s], s, mu, svr_locs[s])]\n",
    "\n",
    "    users = []\n",
    "    for i in range(U):\n",
    "        users += [User(servers, T, usr_locs, lat_dist = 4.5, self_weight = 0.25, threshold_dist=3.5)]\n",
    "\n",
    "    # Multiple users with different wait time scalings\n",
    "    lst_lu, lst_regret, lst_collision_loss, lst_collision_rate = make_user_copies(users, scale_settings, T)\n",
    "\n",
    "    # Naive\n",
    "    regret_dist = np.zeros(T)\n",
    "    collision_loss = np.zeros(T)\n",
    "    collision_rate = np.zeros(T)\n",
    "\n",
    "    # Central solver\n",
    "    UCB = np.ones_like(mu)\n",
    "    T_ka = np.ones_like(mu)\n",
    "    rewards_sum = np.ones([U,K]) # Just for calculating UCB idx\n",
    "    regret_central = np.zeros(T)\n",
    "\n",
    "    pbar = tqdm(total=T - K)\n",
    "\n",
    "    for t in range(T - K):\n",
    "\n",
    "        # Obtain New Arm availability\n",
    "        L = to.obtain_L_users(U,K,users)\n",
    "\n",
    "        # Optimal placement and reward\n",
    "        opt_x, opt_reward = ts.solve_optimization(mu, C, L)\n",
    "\n",
    "        # Solve for Central\n",
    "        lrn_x, _ = ts.solve_optimization(UCB, C, L)\n",
    "        lrn_reward = ts.calculate_obj_val(lrn_x, mu, C)\n",
    "        regret_central[t] = opt_reward - lrn_reward\n",
    "        UCB, T_ka, rewards_sum, mu_bar = ts.play_UCB(UCB, T_ka, rewards_sum, t+1, mu, lrn_x)\n",
    "\n",
    "        # Solve Naive - Distributed \n",
    "        lrn_x_dist = tm.dist_usr_arms(users)\n",
    "        lrn_reward_dist = ts.calculate_obj_val(lrn_x_dist, mu2, C2)\n",
    "        regret_dist[t] = opt_reward - lrn_reward_dist\n",
    "        tm.dist_receive_rewards(servers, users, lrn_x_dist)\n",
    "        # Obtain Collision Information for Dist Methods\n",
    "        collision_loss[t], collision_rate[t] = tm.characterize_collision(lrn_x_dist, mu2, C2)\n",
    "\n",
    "        # Solve Reserve - Distributed\n",
    "        solve_dist_many(servers, opt_reward, lst_lu, scale_settings, mu2, C2, t, \n",
    "                    lst_regret, lst_collision_loss, lst_collision_rate)\n",
    "        \n",
    "        \n",
    "\n",
    "        # Update for Next Step\n",
    "        for u in users:\n",
    "            u.next_step()\n",
    "        update_usr_loc(users, lst_lu)\n",
    "        pbar.update(1)\n",
    "        \n",
    "    record_stats(cumul_reg, cumul_coll_pc, exp_wait, tri,\n",
    "                lst_regret, lst_collision_rate)\n",
    "    cumul_reg_dist[tri] = np.cumsum(regret_dist)[-1]\n",
    "    cumul_coll_dist[tri] = (np.cumsum(collision_rate)[-1])/U\n",
    "\n",
    "    pbar.close()"
   ]
  },
  {
   "cell_type": "code",
   "execution_count": 7,
   "metadata": {},
   "outputs": [
    {
     "name": "stdout",
     "output_type": "stream",
     "text": [
      "[3604.9937 3086.8736 2937.0466 2937.2423 2874.1348 2785.2783 3205.6403]\n"
     ]
    }
   ],
   "source": [
    "print(np.mean(cumul_reg, axis = 1))"
   ]
  },
  {
   "cell_type": "code",
   "execution_count": 8,
   "metadata": {},
   "outputs": [
    {
     "data": {
      "text/plain": [
       "array([620.1706, 436.8145, 365.5006, 315.058 , 247.6585, 185.659 ,\n",
       "       149.0452])"
      ]
     },
     "execution_count": 8,
     "metadata": {},
     "output_type": "execute_result"
    }
   ],
   "source": [
    "np.mean(cumul_coll_pc, axis=1)"
   ]
  },
  {
   "cell_type": "code",
   "execution_count": 9,
   "metadata": {},
   "outputs": [
    {
     "data": {
      "text/plain": [
       "array([ 1.8909,  4.2783,  6.184 ,  8.5484, 12.8645, 21.1511, 41.6044])"
      ]
     },
     "execution_count": 9,
     "metadata": {},
     "output_type": "execute_result"
    }
   ],
   "source": [
    "np.mean(exp_wait, axis=1)"
   ]
  },
  {
   "cell_type": "code",
   "execution_count": 10,
   "metadata": {},
   "outputs": [
    {
     "data": {
      "text/plain": [
       "4075.080462156966"
      ]
     },
     "execution_count": 10,
     "metadata": {},
     "output_type": "execute_result"
    }
   ],
   "source": [
    "np.mean(cumul_reg_dist)"
   ]
  },
  {
   "cell_type": "code",
   "execution_count": 11,
   "metadata": {},
   "outputs": [
    {
     "data": {
      "text/plain": [
       "750.1841581428755"
      ]
     },
     "execution_count": 11,
     "metadata": {},
     "output_type": "execute_result"
    }
   ],
   "source": [
    "np.mean(cumul_coll_dist)"
   ]
  },
  {
   "cell_type": "code",
   "execution_count": 12,
   "metadata": {},
   "outputs": [
    {
     "data": {
      "text/plain": [
       "0.6834355828220859"
      ]
     },
     "execution_count": 12,
     "metadata": {},
     "output_type": "execute_result"
    }
   ],
   "source": [
    "2785/4075"
   ]
  },
  {
   "cell_type": "code",
   "execution_count": null,
   "metadata": {},
   "outputs": [],
   "source": []
  }
 ],
 "metadata": {
  "kernelspec": {
   "display_name": "Python 3",
   "language": "python",
   "name": "python3"
  },
  "language_info": {
   "codemirror_mode": {
    "name": "ipython",
    "version": 3
   },
   "file_extension": ".py",
   "mimetype": "text/x-python",
   "name": "python",
   "nbconvert_exporter": "python",
   "pygments_lexer": "ipython3",
   "version": "3.7.0"
  }
 },
 "nbformat": 4,
 "nbformat_minor": 2
}
