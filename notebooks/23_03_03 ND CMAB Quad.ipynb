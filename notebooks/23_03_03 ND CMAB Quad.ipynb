{
 "cells": [
  {
   "cell_type": "code",
   "execution_count": 1,
   "metadata": {},
   "outputs": [
    {
     "name": "stdout",
     "output_type": "stream",
     "text": [
      "/home/tkim/Academics/EdgeAlloc\n"
     ]
    }
   ],
   "source": [
    "cd /home/tkim/Academics/EdgeAlloc/"
   ]
  },
  {
   "cell_type": "code",
   "execution_count": 2,
   "metadata": {},
   "outputs": [],
   "source": [
    "import numpy as np\n",
    "import matplotlib.pyplot as plt\n",
    "\n",
    "import itertools\n",
    "import copy\n",
    "from tqdm import tqdm, tqdm_notebook\n",
    "\n",
    "import tools.solver_utils as ts\n",
    "import tools.other_utils as to"
   ]
  },
  {
   "cell_type": "code",
   "execution_count": 3,
   "metadata": {},
   "outputs": [
    {
     "name": "stderr",
     "output_type": "stream",
     "text": [
      "\r",
      "  0%|          | 0/2000 [00:00<?, ?it/s]"
     ]
    },
    {
     "name": "stdout",
     "output_type": "stream",
     "text": [
      "Restricted license - for non-production use only - expires 2024-10-28\n"
     ]
    },
    {
     "name": "stderr",
     "output_type": "stream",
     "text": [
      "100%|██████████| 2000/2000 [01:04<00:00, 30.77it/s]\n"
     ]
    }
   ],
   "source": [
    "# Setting up CMAB implementation\n",
    "U = 10 # Number users\n",
    "K = 10 # Number servers\n",
    "T = 2000\n",
    "L_select = 5\n",
    "\n",
    "mu = np.random.uniform(low=0.0, high=1.0, size=[U,K])\n",
    "mu_bar = np.zeros_like(mu)\n",
    "C = np.random.randint(low = 1, high=3, size=K, dtype=int)\n",
    "\n",
    "UCB = np.ones_like(mu)\n",
    "T_ka = np.ones_like(mu)\n",
    "rewards_sum = np.ones([U,K]) # Just for calculating UCB idx\n",
    "regret = np.zeros(T)\n",
    "\n",
    "pbar = tqdm(total=T)\n",
    "\n",
    "for t in range(T):\n",
    "    # Obtain New Arm availability\n",
    "    L = to.update_L_random(U,K,num_select=L_select)\n",
    "    opt_x, opt_reward = ts.solve_optimization(mu, C, L)\n",
    "    lrn_x, _ = ts.solve_optimization(UCB, C, L)\n",
    "    lrn_reward = ts.calculate_obj_val(lrn_x, mu, C)\n",
    "    \n",
    "    # calculate regert\n",
    "    regret[t] = opt_reward - lrn_reward\n",
    "    \n",
    "    # Update UCB Learning\n",
    "    UCB, T_ka, rewards_sum, mu_bar = ts.play_UCB(UCB, T_ka, rewards_sum, t+1, mu, lrn_x)\n",
    "    pbar.update(1)\n",
    "\n",
    "# plot cumulative regert    \n",
    "pbar.close()"
   ]
  },
  {
   "cell_type": "code",
   "execution_count": 5,
   "metadata": {},
   "outputs": [
    {
     "data": {
      "text/plain": [
       "Text(0.5,0,'Rounds')"
      ]
     },
     "execution_count": 5,
     "metadata": {},
     "output_type": "execute_result"
    },
    {
     "data": {
      "image/png": "[encoded data removed]",
      "text/plain": [
       "<Figure size 432x288 with 1 Axes>"
      ]
     },
     "metadata": {
      "needs_background": "light"
     },
     "output_type": "display_data"
    }
   ],
   "source": [
    "plt.plot(np.cumsum(regret))\n",
    "plt.title(\"Cumulative Regret\")\n",
    "plt.xlabel(\"Rounds\")"
   ]
  },
  {
   "cell_type": "code",
   "execution_count": 6,
   "metadata": {},
   "outputs": [
    {
     "data": {
      "text/plain": [
       "Text(0.5,0,'Rounds')"
      ]
     },
     "execution_count": 6,
     "metadata": {},
     "output_type": "execute_result"
    },
    {
     "data": {
      "image/png": "[encoded data removed]",
      "text/plain": [
       "<Figure size 432x288 with 1 Axes>"
      ]
     },
     "metadata": {
      "needs_background": "light"
     },
     "output_type": "display_data"
    }
   ],
   "source": [
    "plt.plot(regret)\n",
    "plt.title(\"Per Round Regret\")\n",
    "plt.xlabel(\"Rounds\")"
   ]
  },
  {
   "cell_type": "code",
   "execution_count": 7,
   "metadata": {},
   "outputs": [
    {
     "data": {
      "text/plain": [
       "array([[0.13784582, 0.1389532 , 0.06906012, 0.72569021, 0.0957135 ,\n",
       "        0.71728845, 0.95120928, 0.0925657 , 0.17805213, 0.90347914],\n",
       "       [0.33635837, 0.11227248, 0.73476214, 0.83337318, 0.51735335,\n",
       "        0.3692722 , 0.4046016 , 0.90402775, 0.90432013, 0.43238033],\n",
       "       [0.50264282, 0.02685157, 0.97987454, 0.54025649, 0.50932804,\n",
       "        0.28451414, 0.58046748, 0.58083742, 0.60215841, 0.6509633 ],\n",
       "       [0.51650757, 0.20720992, 0.8423182 , 0.48997993, 0.00132178,\n",
       "        0.5134511 , 0.92830939, 0.02998565, 0.70246079, 0.61162725],\n",
       "       [0.6595654 , 0.67573565, 0.44553091, 0.38265843, 0.79812157,\n",
       "        0.97797696, 0.320534  , 0.34596389, 0.93314498, 0.98320709],\n",
       "       [0.68372029, 0.38269296, 0.84679152, 0.84152424, 0.77613381,\n",
       "        0.14613224, 0.80414935, 0.19212929, 0.8536449 , 0.05238004],\n",
       "       [0.95346233, 0.7496519 , 0.61555775, 0.1245667 , 0.65602971,\n",
       "        0.44878703, 0.55354124, 0.31496455, 0.92138975, 0.75151019],\n",
       "       [0.15460112, 0.84009226, 0.38207454, 0.00606336, 0.09886524,\n",
       "        0.29152413, 0.18508948, 0.21346547, 0.3951999 , 0.07862147],\n",
       "       [0.65151425, 0.15355631, 0.41311188, 0.50010794, 0.21797912,\n",
       "        0.44659126, 0.40389767, 0.76149711, 0.40791382, 0.79711746],\n",
       "       [0.28218081, 0.34500861, 0.14409839, 0.16817361, 0.5607492 ,\n",
       "        0.49164156, 0.69901837, 0.20298399, 0.61754988, 0.26500606]])"
      ]
     },
     "execution_count": 7,
     "metadata": {},
     "output_type": "execute_result"
    }
   ],
   "source": [
    "mu"
   ]
  },
  {
   "cell_type": "code",
   "execution_count": 8,
   "metadata": {},
   "outputs": [
    {
     "data": {
      "text/plain": [
       "array([[0.14529915, 0.15748032, 0.10752688, 0.71548999, 0.07954545,\n",
       "        0.72993534, 0.94742119, 0.09574468, 0.19811321, 0.90247364],\n",
       "       [0.30701754, 0.08333333, 0.72798949, 0.83218884, 0.51908397,\n",
       "        0.29411765, 0.421875  , 0.90475688, 0.90584029, 0.30973451],\n",
       "       [0.44419643, 0.01388889, 0.97970869, 0.54110613, 0.50380711,\n",
       "        0.21374046, 0.59631728, 0.59873867, 0.58099878, 0.66315205],\n",
       "       [0.49323308, 0.26035503, 0.83945171, 0.49877751, 0.01666667,\n",
       "        0.51066856, 0.92695325, 0.04477612, 0.67946578, 0.6124197 ],\n",
       "       [0.65705128, 0.6215781 , 0.47715736, 0.35714286, 0.80102041,\n",
       "        0.97560976, 0.25352113, 0.36283186, 0.93337889, 0.98185353],\n",
       "       [0.64817518, 0.40104167, 0.84240688, 0.84535005, 0.7782466 ,\n",
       "        0.15873016, 0.79005021, 0.2125    , 0.8479798 , 0.14814814],\n",
       "       [0.95395869, 0.75476191, 0.58148148, 0.11764706, 0.65820106,\n",
       "        0.49027237, 0.51578948, 0.30188679, 0.92240588, 0.7649919 ],\n",
       "       [0.15819209, 0.84171005, 0.39228053, 0.00970874, 0.09174312,\n",
       "        0.28265377, 0.19319728, 0.21589794, 0.39046392, 0.07883817],\n",
       "       [0.66606236, 0.13888889, 0.34943182, 0.47929936, 0.23529412,\n",
       "        0.43343653, 0.40709812, 0.75912573, 0.40821918, 0.7924    ],\n",
       "       [0.30024213, 0.35778636, 0.07272727, 0.19626168, 0.55072464,\n",
       "        0.46537217, 0.70428492, 0.18719212, 0.61872684, 0.25833333]])"
      ]
     },
     "execution_count": 8,
     "metadata": {},
     "output_type": "execute_result"
    }
   ],
   "source": [
    "mu_bar"
   ]
  },
  {
   "cell_type": "code",
   "execution_count": 9,
   "metadata": {},
   "outputs": [
    {
     "data": {
      "text/plain": [
       "array([[-0.00745333, -0.01852712, -0.03846676,  0.01020022,  0.01616804,\n",
       "        -0.01264689,  0.0037881 , -0.00317898, -0.02006108,  0.0010055 ],\n",
       "       [ 0.02934083,  0.02893915,  0.00677265,  0.00118434, -0.00173062,\n",
       "         0.07515455, -0.01727341, -0.00072913, -0.00152016,  0.12264582],\n",
       "       [ 0.0584464 ,  0.01296268,  0.00016585, -0.00084964,  0.00552093,\n",
       "         0.07077368, -0.0158498 , -0.01790125,  0.02115963, -0.01218875],\n",
       "       [ 0.02327448, -0.05314511,  0.00286649, -0.00879758, -0.01534488,\n",
       "         0.00278254,  0.00135614, -0.01479047,  0.02299501, -0.00079245],\n",
       "       [ 0.00251412,  0.05415755, -0.03162645,  0.02551558, -0.00289884,\n",
       "         0.0023672 ,  0.06701287, -0.01686797, -0.00023391,  0.00135356],\n",
       "       [ 0.0355451 , -0.0183487 ,  0.00438465, -0.00382581, -0.00211279,\n",
       "        -0.01259793,  0.01409914, -0.02037071,  0.00566511, -0.09576811],\n",
       "       [-0.00049636, -0.00511001,  0.03407627,  0.00691964, -0.00217135,\n",
       "        -0.04148534,  0.03775176,  0.01307776, -0.00101612, -0.01348171],\n",
       "       [-0.00359097, -0.00161779, -0.01020599, -0.00364538,  0.00712212,\n",
       "         0.00887036, -0.0081078 , -0.00243247,  0.00473599, -0.0002167 ],\n",
       "       [-0.01454812,  0.01466742,  0.06368006,  0.02080858, -0.017315  ,\n",
       "         0.01315473, -0.00320045,  0.00237138, -0.00030536,  0.00471746],\n",
       "       [-0.01806132, -0.01277775,  0.07137111, -0.02808807,  0.01002456,\n",
       "         0.02626939, -0.00526655,  0.01579187, -0.00117696,  0.00667273]])"
      ]
     },
     "execution_count": 9,
     "metadata": {},
     "output_type": "execute_result"
    }
   ],
   "source": [
    "mu - mu_bar"
   ]
  },
  {
   "cell_type": "code",
   "execution_count": 10,
   "metadata": {},
   "outputs": [
    {
     "data": {
      "text/plain": [
       "array([[ 117.00000021,  126.99999979,   93.        , 2846.99999763,\n",
       "          88.        , 2629.00000109, 8976.99999975,   94.00000026,\n",
       "         106.        , 4932.00000126],\n",
       "       [ 114.00000108,   59.99999959, 1521.99999945, 4659.99999991,\n",
       "         393.0000017 ,  119.        ,  191.99999962, 9480.99999633,\n",
       "        3356.00000199,  113.00000032],\n",
       "       [ 448.00000058,   72.0000005 , 9955.00000032, 1337.99999859,\n",
       "         787.9999989 ,  131.        , 2117.99999932, 2536.99999967,\n",
       "         821.00000278, 1801.99999933],\n",
       "       [ 665.00000083,  169.        , 6346.99999819,  817.999997  ,\n",
       "          60.        ,  702.9999999 , 9049.00000169,   67.00000008,\n",
       "        1198.00000024,  934.00000206],\n",
       "       [ 624.00000036,  620.99999941,  196.99999975,  112.        ,\n",
       "        2352.00000093, 8363.99999937,   71.        ,  113.00000005,\n",
       "        2927.000002  , 4628.99999814],\n",
       "       [ 685.00000128,  191.99999812, 5932.99999835, 6699.00000108,\n",
       "        2132.99999977,   62.9999984 , 2191.00000239,   80.        ,\n",
       "        1979.99999842,   54.00000219],\n",
       "       [9295.99999841, 2939.99999886,  540.00000041,   50.99999925,\n",
       "         944.99999825,  257.00000183,  284.99999875,  106.        ,\n",
       "        4356.00000236, 1234.00000187],\n",
       "       [ 531.00000018, 9988.        , 3963.99999988,  205.99999808,\n",
       "         327.0000005 , 1447.00000003,  734.99999826, 1018.99999935,\n",
       "        1552.00000177,  241.00000195],\n",
       "       [2757.99999985,  107.99999967,  351.99999905, 1255.99999905,\n",
       "         170.00000042,  646.00000024,  478.99999909, 8875.99999725,\n",
       "         365.00000412, 5000.00000127],\n",
       "       [ 413.00000126,  777.00000067,  110.        ,  214.        ,\n",
       "        4553.99999879, 1545.00000115, 8984.99999897,  203.        ,\n",
       "        2968.99999921,  239.99999995]])"
      ]
     },
     "execution_count": 10,
     "metadata": {},
     "output_type": "execute_result"
    }
   ],
   "source": [
    "T_ka"
   ]
  },
  {
   "cell_type": "code",
   "execution_count": null,
   "metadata": {},
   "outputs": [],
   "source": []
  }
 ],
 "metadata": {
  "kernelspec": {
   "display_name": "Python 3",
   "language": "python",
   "name": "python3"
  },
  "language_info": {
   "codemirror_mode": {
    "name": "ipython",
    "version": 3
   },
   "file_extension": ".py",
   "mimetype": "text/x-python",
   "name": "python",
   "nbconvert_exporter": "python",
   "pygments_lexer": "ipython3",
   "version": "3.7.0"
  }
 },
 "nbformat": 4,
 "nbformat_minor": 2
}
